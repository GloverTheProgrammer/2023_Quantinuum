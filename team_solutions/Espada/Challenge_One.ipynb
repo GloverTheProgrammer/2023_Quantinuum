{
 "cells": [
  {
   "attachments": {},
   "cell_type": "markdown",
   "metadata": {},
   "source": [
    "Event: iQuHack 2023\n",
    "Title: Quantinuum\n",
    "Team: Jaydin, David, Eimaan, Jack, Ken\n",
    "Description: This QAOA (Quantum Approximate Optimisation algorithm) implementaion uses the most naive possible classical optimisation strategy. Parameters are sampled from a uniform distribution and if a list of parameters increases the value of the cost function these values are stored as the best guess so far. Can you improve on this using a more sophisticated optimisation strategy? COBAYLA and SPSA are two possible methods.\n",
    "\n"
   ]
  },
  {
   "cell_type": "markdown",
   "metadata": {},
<<<<<<< Updated upstream
   "source": []
=======
   "source": [
    "### Circuit Construction for QAOA:"
   ]
  },
  {
   "cell_type": "code",
   "execution_count": 38,
   "metadata": {},
   "outputs": [
    {
     "data": {
      "image/png": "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",
      "text/plain": [
       "<Figure size 640x480 with 1 Axes>"
      ]
     },
     "metadata": {},
     "output_type": "display_data"
    }
   ],
   "source": [
    "import networkx as nx\n",
    "import matplotlib.pyplot as plt\n",
    "\n",
    "max_cut_graph_edges = [(0,1), (1,2), (1,3), (3,4), (4,5), (4,6)]\n",
    "n_nodes = 7\n",
    "\n",
    "max_cut_graph = nx.Graph()\n",
    "max_cut_graph.add_edges_from(max_cut_graph_edges)\n",
    "nx.draw(max_cut_graph, labels={node: node for node in max_cut_graph.nodes()})\n",
    "\n",
    "expected_results = [(0,1,0,0,1,0,0), (1,0,1,1,0,1,1)]"
   ]
  },
  {
   "attachments": {},
   "cell_type": "markdown",
   "metadata": {},
   "source": [
    "### Define Cost Hamiltonian: $\\gamma H$"
   ]
  },
  {
   "attachments": {},
   "cell_type": "markdown",
   "metadata": {},
   "source": [
    "$$\n",
    "\\begin{equation}\n",
    "H_P = \\frac{1}{2}\\sum_{<jk>} (-Z_j \\,Z_k +I )\n",
    "\\end{equation}\n",
    "$$"
   ]
  },
  {
   "cell_type": "code",
   "execution_count": 39,
   "metadata": {},
   "outputs": [
    {
     "name": "stdout",
     "output_type": "stream",
     "text": [
      "{(): 3.00000000000000, (Zq[0], Zq[1]): -0.500000000000000, (Zq[1], Zq[2]): -0.500000000000000, (Zq[1], Zq[3]): -0.500000000000000, (Zq[3], Zq[4]): -0.500000000000000, (Zq[4], Zq[5]): -0.500000000000000, (Zq[4], Zq[6]): -0.500000000000000}\n"
     ]
    }
   ],
   "source": [
    "from typing import List, Tuple, Any\n",
    "from pytket.utils import QubitPauliOperator\n",
    "from pytket.pauli import QubitPauliString, Pauli\n",
    "from pytket import Qubit\n",
    "\n",
    "def qaoa_graph_to_cost_hamiltonian(edges: List[Tuple[int, int]], cost_angle: float) -> QubitPauliOperator:\n",
    "    qpo_dict = {QubitPauliString(): len(edges)*0.5*cost_angle}\n",
    "    for e in edges:\n",
    "        term_string = QubitPauliString([Qubit(e[0]), Qubit(e[1])], [Pauli.Z, Pauli.Z])\n",
    "        qpo_dict[term_string] = -0.5*cost_angle\n",
    "    return QubitPauliOperator(qpo_dict)\n",
    "\n",
    "cost_angle = 1.0\n",
    "cost_ham_qpo = qaoa_graph_to_cost_hamiltonian(max_cut_graph_edges, cost_angle)\n",
    "print(cost_ham_qpo)"
   ]
  },
  {
   "attachments": {},
   "cell_type": "markdown",
   "metadata": {},
   "source": [
    "### Hamiltonian Circuit"
   ]
  },
  {
   "cell_type": "code",
   "execution_count": 40,
   "metadata": {},
   "outputs": [
    {
     "data": {
      "text/html": [
       "\n",
       "\n",
       "\n",
       "\n",
       "\n",
       "\n",
       "<iframe srcdoc=\"\n",
       "&lt;!DOCTYPE html&gt;\n",
       "&lt;html lang=&#34;en&#34;&gt;\n",
       "&lt;head&gt;\n",
       "    &lt;meta charset=&#34;UTF-8&#34;&gt;\n",
       "    &lt;script type=&#34;application/javascript&#34; src=&#34;https://cdn.jsdelivr.net/npm/vue@3&#34;&gt;&lt;/script&gt;\n",
       "    &lt;script type=&#34;application/javascript&#34; src=&#34;https://unpkg.com/pytket-circuit-renderer@0.3/dist/pytket-circuit-renderer.umd.js&#34;&gt;&lt;/script&gt;\n",
       "    &lt;link rel=&#34;stylesheet&#34; href=&#34;https://unpkg.com/pytket-circuit-renderer@0.3/dist/pytket-circuit-renderer.css&#34;&gt;\n",
       "&lt;/head&gt;\n",
       "&lt;body&gt;\n",
       "    &lt;div id=&#34;circuit-display-vue-container-1455c54e-fa35-4174-a003-516035072706&#34; class=&#34;pytket-circuit-display-container&#34;&gt;\n",
       "        &lt;div style=&#34;display: none&#34;&gt;\n",
       "            &lt;div id=&#34;circuit-json-to-display&#34;&gt;{&#34;bits&#34;: [], &#34;commands&#34;: [{&#34;args&#34;: [[&#34;q&#34;, [0]], [&#34;q&#34;, [1]], [&#34;q&#34;, [2]], [&#34;q&#34;, [3]], [&#34;q&#34;, [4]], [&#34;q&#34;, [5]], [&#34;q&#34;, [6]]], &#34;op&#34;: {&#34;box&#34;: {&#34;circuit&#34;: {&#34;bits&#34;: [], &#34;commands&#34;: [{&#34;args&#34;: [[&#34;q&#34;, [0]], [&#34;q&#34;, [1]]], &#34;op&#34;: {&#34;box&#34;: {&#34;id&#34;: &#34;8c1ba66a-b084-4593-8346-9688521f21e3&#34;, &#34;paulis&#34;: [&#34;Z&#34;, &#34;Z&#34;], &#34;phase&#34;: &#34;-0.5&#34;, &#34;type&#34;: &#34;PauliExpBox&#34;}, &#34;type&#34;: &#34;PauliExpBox&#34;}}, {&#34;args&#34;: [[&#34;q&#34;, [1]], [&#34;q&#34;, [2]]], &#34;op&#34;: {&#34;box&#34;: {&#34;id&#34;: &#34;6d8501dd-8bd5-4468-8eda-ce69d540ab01&#34;, &#34;paulis&#34;: [&#34;Z&#34;, &#34;Z&#34;], &#34;phase&#34;: &#34;-0.5&#34;, &#34;type&#34;: &#34;PauliExpBox&#34;}, &#34;type&#34;: &#34;PauliExpBox&#34;}}, {&#34;args&#34;: [[&#34;q&#34;, [1]], [&#34;q&#34;, [3]]], &#34;op&#34;: {&#34;box&#34;: {&#34;id&#34;: &#34;517002e2-d977-45b8-b0a4-671203a3a444&#34;, &#34;paulis&#34;: [&#34;Z&#34;, &#34;Z&#34;], &#34;phase&#34;: &#34;-0.5&#34;, &#34;type&#34;: &#34;PauliExpBox&#34;}, &#34;type&#34;: &#34;PauliExpBox&#34;}}, {&#34;args&#34;: [[&#34;q&#34;, [3]], [&#34;q&#34;, [4]]], &#34;op&#34;: {&#34;box&#34;: {&#34;id&#34;: &#34;8fcddb6d-b5fe-4794-9768-2f908504c9a1&#34;, &#34;paulis&#34;: [&#34;Z&#34;, &#34;Z&#34;], &#34;phase&#34;: &#34;-0.5&#34;, &#34;type&#34;: &#34;PauliExpBox&#34;}, &#34;type&#34;: &#34;PauliExpBox&#34;}}, {&#34;args&#34;: [[&#34;q&#34;, [4]], [&#34;q&#34;, [5]]], &#34;op&#34;: {&#34;box&#34;: {&#34;id&#34;: &#34;c14b25f6-3d4c-4735-a48d-0b619b89afe0&#34;, &#34;paulis&#34;: [&#34;Z&#34;, &#34;Z&#34;], &#34;phase&#34;: &#34;-0.5&#34;, &#34;type&#34;: &#34;PauliExpBox&#34;}, &#34;type&#34;: &#34;PauliExpBox&#34;}}, {&#34;args&#34;: [[&#34;q&#34;, [4]], [&#34;q&#34;, [6]]], &#34;op&#34;: {&#34;box&#34;: {&#34;id&#34;: &#34;fec82a9d-c581-4f15-9624-4034ac34aaff&#34;, &#34;paulis&#34;: [&#34;Z&#34;, &#34;Z&#34;], &#34;phase&#34;: &#34;-0.5&#34;, &#34;type&#34;: &#34;PauliExpBox&#34;}, &#34;type&#34;: &#34;PauliExpBox&#34;}}], &#34;created_qubits&#34;: [], &#34;discarded_qubits&#34;: [], &#34;implicit_permutation&#34;: [[[&#34;q&#34;, [0]], [&#34;q&#34;, [0]]], [[&#34;q&#34;, [1]], [&#34;q&#34;, [1]]], [[&#34;q&#34;, [2]], [&#34;q&#34;, [2]]], [[&#34;q&#34;, [3]], [&#34;q&#34;, [3]]], [[&#34;q&#34;, [4]], [&#34;q&#34;, [4]]], [[&#34;q&#34;, [5]], [&#34;q&#34;, [5]]], [[&#34;q&#34;, [6]], [&#34;q&#34;, [6]]]], &#34;phase&#34;: &#34;0.5&#34;, &#34;qubits&#34;: [[&#34;q&#34;, [0]], [&#34;q&#34;, [1]], [&#34;q&#34;, [2]], [&#34;q&#34;, [3]], [&#34;q&#34;, [4]], [&#34;q&#34;, [5]], [&#34;q&#34;, [6]]]}, &#34;id&#34;: &#34;4c3860dd-9c4b-4947-a276-0ea42e96b7fe&#34;, &#34;type&#34;: &#34;CircBox&#34;}, &#34;type&#34;: &#34;CircBox&#34;}}], &#34;created_qubits&#34;: [], &#34;discarded_qubits&#34;: [], &#34;implicit_permutation&#34;: [[[&#34;q&#34;, [0]], [&#34;q&#34;, [0]]], [[&#34;q&#34;, [1]], [&#34;q&#34;, [1]]], [[&#34;q&#34;, [2]], [&#34;q&#34;, [2]]], [[&#34;q&#34;, [3]], [&#34;q&#34;, [3]]], [[&#34;q&#34;, [4]], [&#34;q&#34;, [4]]], [[&#34;q&#34;, [5]], [&#34;q&#34;, [5]]], [[&#34;q&#34;, [6]], [&#34;q&#34;, [6]]]], &#34;phase&#34;: &#34;0.0&#34;, &#34;qubits&#34;: [[&#34;q&#34;, [0]], [&#34;q&#34;, [1]], [&#34;q&#34;, [2]], [&#34;q&#34;, [3]], [&#34;q&#34;, [4]], [&#34;q&#34;, [5]], [&#34;q&#34;, [6]]]}&lt;/div&gt;\n",
       "        &lt;/div&gt;\n",
       "        &lt;circuit-display-container :circuit-element-str=&#34;&#39;#circuit-json-to-display&#39;&#34;&gt;&lt;/circuit-display-container&gt;\n",
       "    &lt;/div&gt;\n",
       "    &lt;script type=&#34;application/javascript&#34;&gt;\n",
       "        const { createApp } = Vue;\n",
       "        const circuitDisplayContainer = window[&#34;pytket-circuit-renderer&#34;].default;\n",
       "        // Init variables to be shared between circuit display instances\n",
       "        if (typeof window.pytketCircuitDisplays === &#34;undefined&#34;) {\n",
       "            window.pytketCircuitDisplays = {};\n",
       "        }\n",
       "        const uid = &#34;1455c54e-fa35-4174-a003-516035072706&#34;;\n",
       "        // Create the root Vue component\n",
       "        const app = createApp({\n",
       "            delimiters: [&#39;[[#&#39;, &#39;#]]&#39;],\n",
       "            components: { circuitDisplayContainer },\n",
       "        })\n",
       "        app.config.unwrapInjectedRef = true;\n",
       "        app.mount(&#34;#circuit-display-vue-container-&#34;+uid);\n",
       "        window.pytketCircuitDisplays[uid] = app;\n",
       "    &lt;/script&gt;\n",
       "&lt;/body&gt;\n",
       "&lt;/html&gt;\n",
       "\"\n",
       "        width=\"100%\" height=\"200px\"\n",
       "        style=\"border: none; outline: none; resize: vertical; overflow: auto\"></iframe>\n",
       "\n"
      ],
      "text/plain": [
       "<IPython.core.display.HTML object>"
      ]
     },
     "metadata": {},
     "output_type": "display_data"
    }
   ],
   "source": [
    "from pytket.utils import gen_term_sequence_circuit\n",
    "from pytket import Circuit\n",
    "from pytket.circuit import display\n",
    "\n",
    "cost_ham_circuit = gen_term_sequence_circuit(cost_ham_qpo, Circuit(n_nodes))\n",
    "display.render_circuit_jupyter(cost_ham_circuit)"
   ]
  },
  {
   "cell_type": "code",
   "execution_count": 41,
   "metadata": {},
   "outputs": [
    {
     "data": {
      "text/html": [
       "\n",
       "\n",
       "\n",
       "\n",
       "\n",
       "\n",
       "<iframe srcdoc=\"\n",
       "&lt;!DOCTYPE html&gt;\n",
       "&lt;html lang=&#34;en&#34;&gt;\n",
       "&lt;head&gt;\n",
       "    &lt;meta charset=&#34;UTF-8&#34;&gt;\n",
       "    &lt;script type=&#34;application/javascript&#34; src=&#34;https://cdn.jsdelivr.net/npm/vue@3&#34;&gt;&lt;/script&gt;\n",
       "    &lt;script type=&#34;application/javascript&#34; src=&#34;https://unpkg.com/pytket-circuit-renderer@0.3/dist/pytket-circuit-renderer.umd.js&#34;&gt;&lt;/script&gt;\n",
       "    &lt;link rel=&#34;stylesheet&#34; href=&#34;https://unpkg.com/pytket-circuit-renderer@0.3/dist/pytket-circuit-renderer.css&#34;&gt;\n",
       "&lt;/head&gt;\n",
       "&lt;body&gt;\n",
       "    &lt;div id=&#34;circuit-display-vue-container-bf78eb5e-91d6-4b3a-9fca-4aacad2bec37&#34; class=&#34;pytket-circuit-display-container&#34;&gt;\n",
       "        &lt;div style=&#34;display: none&#34;&gt;\n",
       "            &lt;div id=&#34;circuit-json-to-display&#34;&gt;{&#34;bits&#34;: [], &#34;commands&#34;: [{&#34;args&#34;: [[&#34;q&#34;, [1]], [&#34;q&#34;, [0]]], &#34;op&#34;: {&#34;type&#34;: &#34;CX&#34;}}, {&#34;args&#34;: [[&#34;q&#34;, [0]]], &#34;op&#34;: {&#34;params&#34;: [&#34;-0.5&#34;], &#34;type&#34;: &#34;Rz&#34;}}, {&#34;args&#34;: [[&#34;q&#34;, [1]], [&#34;q&#34;, [0]]], &#34;op&#34;: {&#34;type&#34;: &#34;CX&#34;}}, {&#34;args&#34;: [[&#34;q&#34;, [2]], [&#34;q&#34;, [1]]], &#34;op&#34;: {&#34;type&#34;: &#34;CX&#34;}}, {&#34;args&#34;: [[&#34;q&#34;, [1]]], &#34;op&#34;: {&#34;params&#34;: [&#34;-0.5&#34;], &#34;type&#34;: &#34;Rz&#34;}}, {&#34;args&#34;: [[&#34;q&#34;, [2]], [&#34;q&#34;, [1]]], &#34;op&#34;: {&#34;type&#34;: &#34;CX&#34;}}, {&#34;args&#34;: [[&#34;q&#34;, [3]], [&#34;q&#34;, [1]]], &#34;op&#34;: {&#34;type&#34;: &#34;CX&#34;}}, {&#34;args&#34;: [[&#34;q&#34;, [1]]], &#34;op&#34;: {&#34;params&#34;: [&#34;-0.5&#34;], &#34;type&#34;: &#34;Rz&#34;}}, {&#34;args&#34;: [[&#34;q&#34;, [3]], [&#34;q&#34;, [1]]], &#34;op&#34;: {&#34;type&#34;: &#34;CX&#34;}}, {&#34;args&#34;: [[&#34;q&#34;, [4]], [&#34;q&#34;, [3]]], &#34;op&#34;: {&#34;type&#34;: &#34;CX&#34;}}, {&#34;args&#34;: [[&#34;q&#34;, [3]]], &#34;op&#34;: {&#34;params&#34;: [&#34;-0.5&#34;], &#34;type&#34;: &#34;Rz&#34;}}, {&#34;args&#34;: [[&#34;q&#34;, [4]], [&#34;q&#34;, [3]]], &#34;op&#34;: {&#34;type&#34;: &#34;CX&#34;}}, {&#34;args&#34;: [[&#34;q&#34;, [5]], [&#34;q&#34;, [4]]], &#34;op&#34;: {&#34;type&#34;: &#34;CX&#34;}}, {&#34;args&#34;: [[&#34;q&#34;, [4]]], &#34;op&#34;: {&#34;params&#34;: [&#34;-0.5&#34;], &#34;type&#34;: &#34;Rz&#34;}}, {&#34;args&#34;: [[&#34;q&#34;, [5]], [&#34;q&#34;, [4]]], &#34;op&#34;: {&#34;type&#34;: &#34;CX&#34;}}, {&#34;args&#34;: [[&#34;q&#34;, [6]], [&#34;q&#34;, [4]]], &#34;op&#34;: {&#34;type&#34;: &#34;CX&#34;}}, {&#34;args&#34;: [[&#34;q&#34;, [4]]], &#34;op&#34;: {&#34;params&#34;: [&#34;-0.5&#34;], &#34;type&#34;: &#34;Rz&#34;}}, {&#34;args&#34;: [[&#34;q&#34;, [6]], [&#34;q&#34;, [4]]], &#34;op&#34;: {&#34;type&#34;: &#34;CX&#34;}}], &#34;created_qubits&#34;: [], &#34;discarded_qubits&#34;: [], &#34;implicit_permutation&#34;: [[[&#34;q&#34;, [0]], [&#34;q&#34;, [0]]], [[&#34;q&#34;, [1]], [&#34;q&#34;, [1]]], [[&#34;q&#34;, [2]], [&#34;q&#34;, [2]]], [[&#34;q&#34;, [3]], [&#34;q&#34;, [3]]], [[&#34;q&#34;, [4]], [&#34;q&#34;, [4]]], [[&#34;q&#34;, [5]], [&#34;q&#34;, [5]]], [[&#34;q&#34;, [6]], [&#34;q&#34;, [6]]]], &#34;phase&#34;: &#34;0.5&#34;, &#34;qubits&#34;: [[&#34;q&#34;, [0]], [&#34;q&#34;, [1]], [&#34;q&#34;, [2]], [&#34;q&#34;, [3]], [&#34;q&#34;, [4]], [&#34;q&#34;, [5]], [&#34;q&#34;, [6]]]}&lt;/div&gt;\n",
       "        &lt;/div&gt;\n",
       "        &lt;circuit-display-container :circuit-element-str=&#34;&#39;#circuit-json-to-display&#39;&#34;&gt;&lt;/circuit-display-container&gt;\n",
       "    &lt;/div&gt;\n",
       "    &lt;script type=&#34;application/javascript&#34;&gt;\n",
       "        const { createApp } = Vue;\n",
       "        const circuitDisplayContainer = window[&#34;pytket-circuit-renderer&#34;].default;\n",
       "        // Init variables to be shared between circuit display instances\n",
       "        if (typeof window.pytketCircuitDisplays === &#34;undefined&#34;) {\n",
       "            window.pytketCircuitDisplays = {};\n",
       "        }\n",
       "        const uid = &#34;bf78eb5e-91d6-4b3a-9fca-4aacad2bec37&#34;;\n",
       "        // Create the root Vue component\n",
       "        const app = createApp({\n",
       "            delimiters: [&#39;[[#&#39;, &#39;#]]&#39;],\n",
       "            components: { circuitDisplayContainer },\n",
       "        })\n",
       "        app.config.unwrapInjectedRef = true;\n",
       "        app.mount(&#34;#circuit-display-vue-container-&#34;+uid);\n",
       "        window.pytketCircuitDisplays[uid] = app;\n",
       "    &lt;/script&gt;\n",
       "&lt;/body&gt;\n",
       "&lt;/html&gt;\n",
       "\"\n",
       "        width=\"100%\" height=\"200px\"\n",
       "        style=\"border: none; outline: none; resize: vertical; overflow: auto\"></iframe>\n",
       "\n"
      ],
      "text/plain": [
       "<IPython.core.display.HTML object>"
      ]
     },
     "metadata": {},
     "output_type": "display_data"
    }
   ],
   "source": [
    "from pytket.transform import Transform\n",
    "\n",
    "Transform.DecomposeBoxes().apply(cost_ham_circuit)\n",
    "display.render_circuit_jupyter(cost_ham_circuit)"
   ]
  },
  {
   "attachments": {},
   "cell_type": "markdown",
   "metadata": {},
   "source": [
    "### Construction of the Mixer Hamiltonian: $\\beta B$\n"
   ]
  },
  {
   "cell_type": "code",
   "execution_count": 42,
   "metadata": {},
   "outputs": [
    {
     "data": {
      "text/html": [
       "\n",
       "\n",
       "\n",
       "\n",
       "\n",
       "\n",
       "<iframe srcdoc=\"\n",
       "&lt;!DOCTYPE html&gt;\n",
       "&lt;html lang=&#34;en&#34;&gt;\n",
       "&lt;head&gt;\n",
       "    &lt;meta charset=&#34;UTF-8&#34;&gt;\n",
       "    &lt;script type=&#34;application/javascript&#34; src=&#34;https://cdn.jsdelivr.net/npm/vue@3&#34;&gt;&lt;/script&gt;\n",
       "    &lt;script type=&#34;application/javascript&#34; src=&#34;https://unpkg.com/pytket-circuit-renderer@0.3/dist/pytket-circuit-renderer.umd.js&#34;&gt;&lt;/script&gt;\n",
       "    &lt;link rel=&#34;stylesheet&#34; href=&#34;https://unpkg.com/pytket-circuit-renderer@0.3/dist/pytket-circuit-renderer.css&#34;&gt;\n",
       "&lt;/head&gt;\n",
       "&lt;body&gt;\n",
       "    &lt;div id=&#34;circuit-display-vue-container-684ace6f-7ab6-4719-b9bf-f0e51e0f6367&#34; class=&#34;pytket-circuit-display-container&#34;&gt;\n",
       "        &lt;div style=&#34;display: none&#34;&gt;\n",
       "            &lt;div id=&#34;circuit-json-to-display&#34;&gt;{&#34;bits&#34;: [], &#34;commands&#34;: [{&#34;args&#34;: [[&#34;q&#34;, [0]]], &#34;op&#34;: {&#34;type&#34;: &#34;H&#34;}}, {&#34;args&#34;: [[&#34;q&#34;, [1]]], &#34;op&#34;: {&#34;type&#34;: &#34;H&#34;}}, {&#34;args&#34;: [[&#34;q&#34;, [2]]], &#34;op&#34;: {&#34;type&#34;: &#34;H&#34;}}, {&#34;args&#34;: [[&#34;q&#34;, [3]]], &#34;op&#34;: {&#34;type&#34;: &#34;H&#34;}}, {&#34;args&#34;: [[&#34;q&#34;, [4]]], &#34;op&#34;: {&#34;type&#34;: &#34;H&#34;}}, {&#34;args&#34;: [[&#34;q&#34;, [5]]], &#34;op&#34;: {&#34;type&#34;: &#34;H&#34;}}, {&#34;args&#34;: [[&#34;q&#34;, [6]]], &#34;op&#34;: {&#34;type&#34;: &#34;H&#34;}}, {&#34;args&#34;: [[&#34;q&#34;, [0]]], &#34;op&#34;: {&#34;params&#34;: [&#34;0.8&#34;], &#34;type&#34;: &#34;Rz&#34;}}, {&#34;args&#34;: [[&#34;q&#34;, [1]]], &#34;op&#34;: {&#34;params&#34;: [&#34;0.8&#34;], &#34;type&#34;: &#34;Rz&#34;}}, {&#34;args&#34;: [[&#34;q&#34;, [2]]], &#34;op&#34;: {&#34;params&#34;: [&#34;0.8&#34;], &#34;type&#34;: &#34;Rz&#34;}}, {&#34;args&#34;: [[&#34;q&#34;, [3]]], &#34;op&#34;: {&#34;params&#34;: [&#34;0.8&#34;], &#34;type&#34;: &#34;Rz&#34;}}, {&#34;args&#34;: [[&#34;q&#34;, [4]]], &#34;op&#34;: {&#34;params&#34;: [&#34;0.8&#34;], &#34;type&#34;: &#34;Rz&#34;}}, {&#34;args&#34;: [[&#34;q&#34;, [5]]], &#34;op&#34;: {&#34;params&#34;: [&#34;0.8&#34;], &#34;type&#34;: &#34;Rz&#34;}}, {&#34;args&#34;: [[&#34;q&#34;, [6]]], &#34;op&#34;: {&#34;params&#34;: [&#34;0.8&#34;], &#34;type&#34;: &#34;Rz&#34;}}, {&#34;args&#34;: [[&#34;q&#34;, [0]]], &#34;op&#34;: {&#34;type&#34;: &#34;H&#34;}}, {&#34;args&#34;: [[&#34;q&#34;, [1]]], &#34;op&#34;: {&#34;type&#34;: &#34;H&#34;}}, {&#34;args&#34;: [[&#34;q&#34;, [2]]], &#34;op&#34;: {&#34;type&#34;: &#34;H&#34;}}, {&#34;args&#34;: [[&#34;q&#34;, [3]]], &#34;op&#34;: {&#34;type&#34;: &#34;H&#34;}}, {&#34;args&#34;: [[&#34;q&#34;, [4]]], &#34;op&#34;: {&#34;type&#34;: &#34;H&#34;}}, {&#34;args&#34;: [[&#34;q&#34;, [5]]], &#34;op&#34;: {&#34;type&#34;: &#34;H&#34;}}, {&#34;args&#34;: [[&#34;q&#34;, [6]]], &#34;op&#34;: {&#34;type&#34;: &#34;H&#34;}}], &#34;created_qubits&#34;: [], &#34;discarded_qubits&#34;: [], &#34;implicit_permutation&#34;: [[[&#34;q&#34;, [0]], [&#34;q&#34;, [0]]], [[&#34;q&#34;, [1]], [&#34;q&#34;, [1]]], [[&#34;q&#34;, [2]], [&#34;q&#34;, [2]]], [[&#34;q&#34;, [3]], [&#34;q&#34;, [3]]], [[&#34;q&#34;, [4]], [&#34;q&#34;, [4]]], [[&#34;q&#34;, [5]], [&#34;q&#34;, [5]]], [[&#34;q&#34;, [6]], [&#34;q&#34;, [6]]]], &#34;phase&#34;: &#34;0.0&#34;, &#34;qubits&#34;: [[&#34;q&#34;, [0]], [&#34;q&#34;, [1]], [&#34;q&#34;, [2]], [&#34;q&#34;, [3]], [&#34;q&#34;, [4]], [&#34;q&#34;, [5]], [&#34;q&#34;, [6]]]}&lt;/div&gt;\n",
       "        &lt;/div&gt;\n",
       "        &lt;circuit-display-container :circuit-element-str=&#34;&#39;#circuit-json-to-display&#39;&#34;&gt;&lt;/circuit-display-container&gt;\n",
       "    &lt;/div&gt;\n",
       "    &lt;script type=&#34;application/javascript&#34;&gt;\n",
       "        const { createApp } = Vue;\n",
       "        const circuitDisplayContainer = window[&#34;pytket-circuit-renderer&#34;].default;\n",
       "        // Init variables to be shared between circuit display instances\n",
       "        if (typeof window.pytketCircuitDisplays === &#34;undefined&#34;) {\n",
       "            window.pytketCircuitDisplays = {};\n",
       "        }\n",
       "        const uid = &#34;684ace6f-7ab6-4719-b9bf-f0e51e0f6367&#34;;\n",
       "        // Create the root Vue component\n",
       "        const app = createApp({\n",
       "            delimiters: [&#39;[[#&#39;, &#39;#]]&#39;],\n",
       "            components: { circuitDisplayContainer },\n",
       "        })\n",
       "        app.config.unwrapInjectedRef = true;\n",
       "        app.mount(&#34;#circuit-display-vue-container-&#34;+uid);\n",
       "        window.pytketCircuitDisplays[uid] = app;\n",
       "    &lt;/script&gt;\n",
       "&lt;/body&gt;\n",
       "&lt;/html&gt;\n",
       "\"\n",
       "        width=\"100%\" height=\"200px\"\n",
       "        style=\"border: none; outline: none; resize: vertical; overflow: auto\"></iframe>\n",
       "\n"
      ],
      "text/plain": [
       "<IPython.core.display.HTML object>"
      ]
     },
     "metadata": {},
     "output_type": "display_data"
    }
   ],
   "source": [
    "mixer_angle = 0.8\n",
    "mixer_ham_qpo =  QubitPauliOperator({QubitPauliString([Qubit(i)], [Pauli.X]): mixer_angle for i in range(n_nodes)})\n",
    "mixer_ham_circuit = gen_term_sequence_circuit(mixer_ham_qpo, Circuit(n_nodes))\n",
    "Transform.DecomposeBoxes().apply(mixer_ham_circuit)\n",
    "display.render_circuit_jupyter(mixer_ham_circuit)"
   ]
  },
  {
   "attachments": {},
   "cell_type": "markdown",
   "metadata": {},
   "source": [
    "### Define the Initial State"
   ]
  },
  {
   "cell_type": "code",
   "execution_count": 43,
   "metadata": {},
   "outputs": [
    {
     "data": {
      "text/html": [
       "\n",
       "\n",
       "\n",
       "\n",
       "\n",
       "\n",
       "<iframe srcdoc=\"\n",
       "&lt;!DOCTYPE html&gt;\n",
       "&lt;html lang=&#34;en&#34;&gt;\n",
       "&lt;head&gt;\n",
       "    &lt;meta charset=&#34;UTF-8&#34;&gt;\n",
       "    &lt;script type=&#34;application/javascript&#34; src=&#34;https://cdn.jsdelivr.net/npm/vue@3&#34;&gt;&lt;/script&gt;\n",
       "    &lt;script type=&#34;application/javascript&#34; src=&#34;https://unpkg.com/pytket-circuit-renderer@0.3/dist/pytket-circuit-renderer.umd.js&#34;&gt;&lt;/script&gt;\n",
       "    &lt;link rel=&#34;stylesheet&#34; href=&#34;https://unpkg.com/pytket-circuit-renderer@0.3/dist/pytket-circuit-renderer.css&#34;&gt;\n",
       "&lt;/head&gt;\n",
       "&lt;body&gt;\n",
       "    &lt;div id=&#34;circuit-display-vue-container-222dd412-31b0-4202-b548-1e14c6fea275&#34; class=&#34;pytket-circuit-display-container&#34;&gt;\n",
       "        &lt;div style=&#34;display: none&#34;&gt;\n",
       "            &lt;div id=&#34;circuit-json-to-display&#34;&gt;{&#34;bits&#34;: [], &#34;commands&#34;: [{&#34;args&#34;: [[&#34;q&#34;, [0]]], &#34;op&#34;: {&#34;type&#34;: &#34;H&#34;}}, {&#34;args&#34;: [[&#34;q&#34;, [1]]], &#34;op&#34;: {&#34;type&#34;: &#34;H&#34;}}, {&#34;args&#34;: [[&#34;q&#34;, [2]]], &#34;op&#34;: {&#34;type&#34;: &#34;H&#34;}}, {&#34;args&#34;: [[&#34;q&#34;, [3]]], &#34;op&#34;: {&#34;type&#34;: &#34;H&#34;}}, {&#34;args&#34;: [[&#34;q&#34;, [4]]], &#34;op&#34;: {&#34;type&#34;: &#34;H&#34;}}, {&#34;args&#34;: [[&#34;q&#34;, [5]]], &#34;op&#34;: {&#34;type&#34;: &#34;H&#34;}}, {&#34;args&#34;: [[&#34;q&#34;, [6]]], &#34;op&#34;: {&#34;type&#34;: &#34;H&#34;}}], &#34;created_qubits&#34;: [], &#34;discarded_qubits&#34;: [], &#34;implicit_permutation&#34;: [[[&#34;q&#34;, [0]], [&#34;q&#34;, [0]]], [[&#34;q&#34;, [1]], [&#34;q&#34;, [1]]], [[&#34;q&#34;, [2]], [&#34;q&#34;, [2]]], [[&#34;q&#34;, [3]], [&#34;q&#34;, [3]]], [[&#34;q&#34;, [4]], [&#34;q&#34;, [4]]], [[&#34;q&#34;, [5]], [&#34;q&#34;, [5]]], [[&#34;q&#34;, [6]], [&#34;q&#34;, [6]]]], &#34;phase&#34;: &#34;0.0&#34;, &#34;qubits&#34;: [[&#34;q&#34;, [0]], [&#34;q&#34;, [1]], [&#34;q&#34;, [2]], [&#34;q&#34;, [3]], [&#34;q&#34;, [4]], [&#34;q&#34;, [5]], [&#34;q&#34;, [6]]]}&lt;/div&gt;\n",
       "        &lt;/div&gt;\n",
       "        &lt;circuit-display-container :circuit-element-str=&#34;&#39;#circuit-json-to-display&#39;&#34;&gt;&lt;/circuit-display-container&gt;\n",
       "    &lt;/div&gt;\n",
       "    &lt;script type=&#34;application/javascript&#34;&gt;\n",
       "        const { createApp } = Vue;\n",
       "        const circuitDisplayContainer = window[&#34;pytket-circuit-renderer&#34;].default;\n",
       "        // Init variables to be shared between circuit display instances\n",
       "        if (typeof window.pytketCircuitDisplays === &#34;undefined&#34;) {\n",
       "            window.pytketCircuitDisplays = {};\n",
       "        }\n",
       "        const uid = &#34;222dd412-31b0-4202-b548-1e14c6fea275&#34;;\n",
       "        // Create the root Vue component\n",
       "        const app = createApp({\n",
       "            delimiters: [&#39;[[#&#39;, &#39;#]]&#39;],\n",
       "            components: { circuitDisplayContainer },\n",
       "        })\n",
       "        app.config.unwrapInjectedRef = true;\n",
       "        app.mount(&#34;#circuit-display-vue-container-&#34;+uid);\n",
       "        window.pytketCircuitDisplays[uid] = app;\n",
       "    &lt;/script&gt;\n",
       "&lt;/body&gt;\n",
       "&lt;/html&gt;\n",
       "\"\n",
       "        width=\"100%\" height=\"200px\"\n",
       "        style=\"border: none; outline: none; resize: vertical; overflow: auto\"></iframe>\n",
       "\n"
      ],
      "text/plain": [
       "<IPython.core.display.HTML object>"
      ]
     },
     "metadata": {},
     "output_type": "display_data"
    }
   ],
   "source": [
    "def qaoa_initial_circuit(n_qubits: int) -> Circuit:\n",
    "    c = Circuit(n_qubits)\n",
    "    for i in range(n_qubits):\n",
    "        c.H(i)\n",
    "    return c\n",
    "\n",
    "superposition_circuit = qaoa_initial_circuit(n_nodes)\n",
    "\n",
    "display.render_circuit_jupyter(superposition_circuit)"
   ]
  },
  {
   "attachments": {},
   "cell_type": "markdown",
   "metadata": {},
   "source": [
    "### Construct QAOA Circuit"
   ]
  },
  {
   "attachments": {},
   "cell_type": "markdown",
   "metadata": {},
   "source": [
    "Now lets define a function to create our entire QAOA circuit. For $p$ QAOA layers we expect that our circuit will require $2p$ parameters. Here we will pass and cost mixer parameters in as a list where the length of the list defines the number of layers."
   ]
  },
  {
   "cell_type": "code",
   "execution_count": 44,
   "metadata": {},
   "outputs": [],
   "source": [
    "def qaoa_max_cut_circuit(edges: List[Tuple[int, int]],\n",
    "                         n_nodes: int,\n",
    "                         mixer_angles: List[float],\n",
    "                         cost_angles: List[float]) -> Circuit:\n",
    "    \n",
    "    assert len(mixer_angles) == len(cost_angles)\n",
    "    \n",
    "    # initial state\n",
    "    qaoa_circuit = qaoa_initial_circuit(n_nodes)\n",
    "    \n",
    "    # add cost and mixer terms to state\n",
    "    for cost, mixer in zip(cost_angles, mixer_angles):\n",
    "        cost_ham = qaoa_graph_to_cost_hamiltonian(edges, cost)\n",
    "        mixer_ham = QubitPauliOperator({QubitPauliString([Qubit(i)], [Pauli.X]): mixer for i in range(n_nodes)})\n",
    "        qaoa_circuit.append(gen_term_sequence_circuit(cost_ham, Circuit(n_nodes)))\n",
    "        qaoa_circuit.append(gen_term_sequence_circuit(mixer_ham, Circuit(n_nodes)))\n",
    "        \n",
    "    Transform.DecomposeBoxes().apply(qaoa_circuit)\n",
    "    return qaoa_circuit"
   ]
  },
  {
   "attachments": {},
   "cell_type": "markdown",
   "metadata": {},
   "source": [
    "We also need to extract our energy expectation values from a `BackendResult` object after our circuit is processed by the device/simulator. We do this with the `get_max_cut_energy` function below. Note that the fact that the maxcut Hamiltonian contains only commuting terms means that we do not need to calculate our energy expectation using multiple measurement circuits. This may not the the case for a different problem Hamiltonian."
   ]
  },
  {
   "cell_type": "code",
   "execution_count": 45,
   "metadata": {},
   "outputs": [],
   "source": [
    "from typing import List, Tuple\n",
    "from pytket.backends.backendresult import BackendResult\n",
    "\n",
    "def get_max_cut_energy(edges: List[Tuple[int, int]], results: BackendResult) -> float:\n",
    "    energy = 0.0\n",
    "    dist = results.get_distribution()\n",
    "    for i, j in edges:\n",
    "        energy += sum((meas[i] ^ meas[j]) * prob for meas, prob in dist.items())\n",
    "\n",
    "    return energy"
   ]
  },
  {
   "cell_type": "code",
   "execution_count": 46,
   "metadata": {},
   "outputs": [],
   "source": [
    "from pytket.backends.backend import Backend\n",
    "from typing import Callable\n",
    "import numpy as np\n",
    "\n",
    "def qaoa_instance(\n",
    "    backend: Backend,\n",
    "    compiler_pass: Callable[[Circuit], bool],\n",
    "    guess_mixer_angles: np.array,\n",
    "    guess_cost_angles: np.array,\n",
    "    seed: int,\n",
    "    shots: int = 500,\n",
    ") -> float:\n",
    "    # step 1: get state guess\n",
    "    my_prep_circuit = qaoa_max_cut_circuit(\n",
    "        max_cut_graph_edges, n_nodes, guess_mixer_angles, guess_cost_angles\n",
    "    )\n",
    "    # step 2: measure state\n",
    "    measured_circ = my_prep_circuit.copy().measure_all()\n",
    "    compiler_pass(measured_circ)\n",
    "    res = backend.run_circuit(measured_circ, shots, seed=seed)\n",
    "\n",
    "\n",
    "    return get_max_cut_energy(max_cut_graph_edges, res)"
   ]
  },
  {
   "attachments": {},
   "cell_type": "markdown",
   "metadata": {},
   "source": [
    "### [IMPLEMENTATION BELOW] Optimise Energy by Guessing Parameters\n",
    "\n",
    "In order to try each of the functions below you have to F2 rename one of the methods listed below and change the name to 'qaoa_optimise_energy'"
   ]
  },
  {
   "attachments": {},
   "cell_type": "markdown",
   "metadata": {},
   "source": [
    "### Nelder-Mead"
   ]
  },
  {
   "attachments": {},
   "cell_type": "markdown",
   "metadata": {},
   "source": [
    "The Nelder–Mead method (also downhill simplex method, amoeba method, or polytope method) is a numerical method used to find the minimum or maximum of an objective function in a multidimensional space. It is a direct search method (based on function comparison) and is often applied to nonlinear optimization problems for which derivatives may not be known. However, the Nelder–Mead technique is a heuristic search method that can converge to non-stationary points[1] on problems that can be solved by alternative methods"
   ]
  },
  {
   "cell_type": "code",
   "execution_count": 47,
   "metadata": {},
   "outputs": [],
   "source": [
    "from scipy.optimize import minimize\n",
    "\n",
    "\n",
    "def qaoa_optimise_energy_Nelder_Mead(\n",
    "    compiler_pass: Callable[[Circuit], bool],\n",
    "    backend: Backend,\n",
    "    iterations: int = 5,\n",
    "    n: int = 3,\n",
    "    shots: int = 5000,\n",
    "    seed: int = 12345,\n",
    "):\n",
    "\n",
    "    highest_energy = 0\n",
    "    best_guess_mixer_angles = [0 for i in range(n)]\n",
    "    best_guess_cost_angles = [0 for i in range(n)]\n",
    "    rng = np.random.default_rng(seed)\n",
    "\n",
    "    # define cost function\n",
    "    def max_cut_cost_hamiltonian(angles):\n",
    "        mixer_angles = angles[:n]\n",
    "        cost_angles = angles[n:]\n",
    "        return -qaoa_instance(\n",
    "            backend, compiler_pass, mixer_angles, cost_angles, seed=seed, shots=shots\n",
    "        )\n",
    "\n",
    "    # guess some angles (iterations)-times and try if they are better than the best angles found before\n",
    "    for i in range(iterations):\n",
    "\n",
    "        initial_angles = rng.uniform(0, 1, 2 * n)\n",
    "        res = minimize(max_cut_cost_hamiltonian, initial_angles, method=\"Nelder-Mead\")\n",
    "\n",
    "        if -res.fun > highest_energy:\n",
    "            print(\"new highest energy found: \", -res.fun)\n",
    "\n",
    "            best_guess_mixer_angles = np.round(res.x[:n], 3)\n",
    "            best_guess_cost_angles = np.round(res.x[n:], 3)\n",
    "            highest_energy = -res.fun\n",
    "\n",
    "    print(\"highest energy: \", highest_energy)\n",
    "    print(\"best guess mixer angles: \", best_guess_mixer_angles)\n",
    "    print(\"best guess cost angles: \", best_guess_cost_angles)\n",
    "    return best_guess_mixer_angles, best_guess_cost_angles\n"
   ]
  },
  {
   "attachments": {},
   "cell_type": "markdown",
   "metadata": {},
   "source": [
    "### Basin Hopping"
   ]
  },
  {
   "attachments": {},
   "cell_type": "markdown",
   "metadata": {},
   "source": [
    "Uses the basinhopping function from scipy.optimize, which is an implementation of simulated annealing. This function takes an initial set of angles, and applies small random perturbations to them in order to explore the parameter space. It then calls the max_cut_cost_hamiltonian function, which in turn calls the qaoa_instance function to evaluate the energy of the output state. The basinhopping function will then return the set of angles that results in the highest energy.\n",
    "\n",
    "\"The quantum basin hopping algorithm for continuous global optimisation combines a local search with Grover’s algorithm, and can locate the global optimum using effort proportional to the square root of the number of basins.\""
   ]
  },
  {
   "cell_type": "code",
   "execution_count": 48,
   "metadata": {},
   "outputs": [],
   "source": [
    "from scipy.optimize import minimize, basinhopping\n",
    "\n",
    "def qaoa_optimise_energy(\n",
    "    compiler_pass: Callable[[Circuit], bool],\n",
    "    backend: Backend,\n",
    "    iterations: int = 100,\n",
    "    n: int = 3,\n",
    "    shots: int = 5000,\n",
    "    seed: int = 12345,\n",
    "):\n",
    "    # Create variables to store the best guess angles and the highest energy found\n",
    "    highest_energy = 0\n",
    "    best_guess_mixer_angles = [0 for i in range(n)]\n",
    "    best_guess_cost_angles = [0 for i in range(n)]\n",
    "    rng = np.random.default_rng(seed)\n",
    "\n",
    "    #define cost function\n",
    "    def max_cut_cost_hamiltonian(angles):\n",
    "        mixer_angles = angles[:n]\n",
    "        cost_angles = angles[n:]\n",
    "        return -qaoa_instance(\n",
    "            backend, compiler_pass, mixer_angles, cost_angles, seed=seed, shots=shots\n",
    "        )\n",
    "\n",
    "    #guess some angles (iterations)-times and try if they are better than the best angles found before\n",
    "    for i in range(iterations):\n",
    "        # Create a starting point for the optimization\n",
    "        initial_angles = rng.uniform(0, 1, 2 * n)\n",
    "        # Use basinhopping to find the best angles\n",
    "        res = basinhopping(max_cut_cost_hamiltonian, initial_angles, niter=5)\n",
    "        \n",
    "        if -res.fun > highest_energy:\n",
    "            print(\"new highest energy found: \", -res.fun)\n",
    "            # Store the best angles and the highest energy found\n",
    "            best_guess_mixer_angles = np.round(res.x[:n], 3)\n",
    "            best_guess_cost_angles = np.round(res.x[n:], 3)\n",
    "            highest_energy = -res.fun\n",
    "\n",
    "    print(\"highest energy: \", highest_energy)\n",
    "    print(\"best guess mixer angles: \", best_guess_mixer_angles)\n",
    "    print(\"best guess cost angles: \", best_guess_cost_angles)\n",
    "    return best_guess_mixer_angles, best_guess_cost_angles\n"
   ]
  },
  {
   "attachments": {},
   "cell_type": "markdown",
   "metadata": {},
   "source": [
    "### Gradient-descent \n"
   ]
  },
  {
   "attachments": {},
   "cell_type": "markdown",
   "metadata": {},
   "source": [
    "Used the gradient-descent method to "
   ]
  },
  {
   "cell_type": "code",
   "execution_count": 1,
   "metadata": {},
   "outputs": [],
   "source": [
    "def compute_gradient_mixer(guess_mixer_angles, guess_cost_angles, backend, compiler_pass, shots, seed):\n",
    "    eps = 1e-1 # step size\n",
    "    grad = np.zeros_like(guess_mixer_angles)\n",
    "    for i in range(len(guess_mixer_angles)):\n",
    "        # create a copy of the mixer angles and take a small step in the i-th direction\n",
    "        mixer_angles_plus = guess_mixer_angles.copy()\n",
    "        mixer_angles_plus[i] += eps\n",
    "        mixer_angles_minus = guess_mixer_angles.copy()\n",
    "        mixer_angles_minus[i] -= eps\n",
    "        # compute the energy for each step\n",
    "        energy_plus = qaoa_instance(backend, compiler_pass, mixer_angles_plus, guess_cost_angles, seed, shots)\n",
    "        energy_minus = qaoa_instance(backend, compiler_pass, mixer_angles_minus, guess_cost_angles, seed, shots)\n",
    "        # approximate the gradient using the finite difference method\n",
    "        grad[i] = (energy_plus - energy_minus) / (2 * eps)\n",
    "    return grad\n",
    "\n",
    "\n",
    "def compute_gradient_cost(\n",
    "    guess_mixer_angles, guess_cost_angles, backend, compiler_pass, shots, seed\n",
    "):\n",
    "    eps = 1e-1  # step size\n",
    "    grad = np.zeros_like(guess_cost_angles)\n",
    "    for i in range(len(guess_cost_angles)):\n",
    "        # create a copy of the cost angles and take a small step in the i-th direction\n",
    "        cost_angles_plus = guess_cost_angles.copy()\n",
    "        cost_angles_plus[i] += eps\n",
    "        cost_angles_minus = guess_cost_angles.copy()\n",
    "        cost_angles_minus[i] -= eps\n",
    "        # compute the energy for each step\n",
    "        energy_plus = qaoa_instance(\n",
    "            backend,\n",
    "            compiler_pass,\n",
    "            guess_mixer_angles,\n",
    "            cost_angles_plus,\n",
    "            seed=seed,\n",
    "            shots=shots,\n",
    "        )\n",
    "        energy_minus = qaoa_instance(\n",
    "            backend,\n",
    "            compiler_pass,\n",
    "            guess_mixer_angles,\n",
    "            cost_angles_minus,\n",
    "            seed=seed,\n",
    "            shots=shots,\n",
    "        )\n",
    "        # approximate the gradient using the finite difference method\n",
    "        grad[i] = (energy_plus - energy_minus) / (2 * eps)\n",
    "    return grad\n",
    "\n",
    "def qaoa_optimise_energygradientdecent(compiler_pass: Callable[[Circuit], bool],\n",
    "                         backend: Backend,\n",
    "                         iterations: int = 100,\n",
    "                         n: int = 3,\n",
    "                         shots: int = 5000,\n",
    "                         seed: int= 12345):\n",
    "    \n",
    "    highest_energy = 0    \n",
    "    best_guess_mixer_angles = [0 for i in range(n)]    \n",
    "    best_guess_cost_angles = [0 for i in range(n)]\n",
    "    rng = np.random.default_rng(seed)\n",
    "    guess_mixer_angles = rng.uniform(0, 1, n)\n",
    "    guess_cost_angles = rng.uniform(0, 1, n)\n",
    "    learning_rate = 0.3\n",
    "    # guess some angles (iterations)-times and try if they are better than the best angles found before\n",
    "    \n",
    "    tol = 1e-1\n",
    "    for i in range(iterations):\n",
    "        #compute gradient of mixer and cost\n",
    "        grad_mixer = compute_gradient_mixer(guess_mixer_angles, guess_cost_angles, backend, compiler_pass, shots, seed)\n",
    "        grad_cost = compute_gradient_cost(guess_mixer_angles, guess_cost_angles, backend, compiler_pass, shots, seed)\n",
    "        #update angles with gradients\n",
    "        guess_mixer_angles = guess_mixer_angles - learning_rate * grad_mixer\n",
    "        guess_cost_angles = guess_cost_angles - learning_rate * grad_cost\n",
    "\n",
    "        \n",
    "        qaoa_energy = qaoa_instance(backend,\n",
    "                                    compiler_pass,\n",
    "                                    guess_mixer_angles,\n",
    "                                    guess_cost_angles,\n",
    "                                    seed=seed,\n",
    "                                    shots=shots)\n",
    "        \n",
    "\n",
    "        if(qaoa_energy > highest_energy):\n",
    "            \n",
    "            print(\"new highest energy found: \", qaoa_energy)\n",
    "            \n",
    "            best_guess_mixer_angles = np.round(guess_mixer_angles, 3)\n",
    "            best_guess_cost_angles = np.round(guess_cost_angles, 3)\n",
    "            highest_energy = qaoa_energy\n",
    "        if (np.linalg.norm(grad_mixer) < tol) and (np.linalg.norm(grad_cost) < tol):\n",
    "            break\n",
    "    \n",
    "    \n",
    "    # Print the best angles and the highest energy found\n",
    "    print(\"highest energy: \", highest_energy)\n",
    "    print(\"best guess mixer angles: \", best_guess_mixer_angles)\n",
    "    print(\"best guess cost angles: \", best_guess_cost_angles)\n",
    "    return best_guess_mixer_angles, best_guess_cost_angles"
   ]
  },
  {
   "attachments": {},
   "cell_type": "markdown",
   "metadata": {},
   "source": [
    "### Starting Function"
   ]
  },
  {
   "cell_type": "code",
   "execution_count": 50,
   "metadata": {},
   "outputs": [],
   "source": [
    "def qaoa_optimise_energy_starting_point(\n",
    "    compiler_pass: Callable[[Circuit], bool],\n",
    "    backend: Backend,\n",
    "    iterations: int = 100,\n",
    "    n: int = 3,\n",
    "    shots: int = 5000,\n",
    "    seed: int = 12345,\n",
    "):\n",
    "\n",
    "    highest_energy = 0\n",
    "    best_guess_mixer_angles = [0 for i in range(n)]\n",
    "    best_guess_cost_angles = [0 for i in range(n)]\n",
    "    rng = np.random.default_rng(seed)\n",
    "\n",
    "    # guess some angles (iterations)-times and try if they are better than the best angles found before\n",
    "    for i in range(iterations):\n",
    "\n",
    "        guess_mixer_angles = rng.uniform(0, 1, n)\n",
    "        guess_cost_angles = rng.uniform(0, 1, n)\n",
    "\n",
    "        qaoa_energy = qaoa_instance(\n",
    "            backend,\n",
    "            compiler_pass,\n",
    "            guess_mixer_angles,\n",
    "            guess_cost_angles,\n",
    "            seed=seed,\n",
    "            shots=shots,\n",
    "        )\n",
    "\n",
    "        if qaoa_energy > highest_energy:\n",
    "\n",
    "            print(\"new highest energy found: \", qaoa_energy)\n",
    "\n",
    "            best_guess_mixer_angles = np.round(guess_mixer_angles, 3)\n",
    "            best_guess_cost_angles = np.round(guess_cost_angles, 3)\n",
    "            highest_energy = qaoa_energy\n",
    "\n",
    "    print(\"highest energy: \", highest_energy)\n",
    "    print(\"best guess mixer angles: \", best_guess_mixer_angles)\n",
    "    print(\"best guess cost angles: \", best_guess_cost_angles)\n",
    "    return best_guess_mixer_angles, best_guess_cost_angles\n"
   ]
  },
  {
   "attachments": {},
   "cell_type": "markdown",
   "metadata": {},
   "source": [
    "### Calculate the State for the final Parameters"
   ]
  },
  {
   "cell_type": "code",
   "execution_count": 51,
   "metadata": {},
   "outputs": [],
   "source": [
    "def qaoa_calculate(backend: Backend,\n",
    "                   compiler_pass: Callable[[Circuit], bool],\n",
    "                   shots: int = 5000,\n",
    "                   iterations: int = 100,\n",
    "                   seed: int = 12345,\n",
    "                  ) -> BackendResult:\n",
    "    \n",
    "    # find the parameters for the highest energy\n",
    "    best_mixer, best_cost = qaoa_optimise_energy(compiler_pass,\n",
    "                                                 backend,\n",
    "                                                 iterations,\n",
    "                                                 3,\n",
    "                                                 shots=shots,\n",
    "                                                 seed=seed)\n",
    "    \n",
    "    # get the circuit with the final parameters of the optimisation:\n",
    "    my_qaoa_circuit = qaoa_max_cut_circuit(max_cut_graph_edges,\n",
    "                                           n_nodes,\n",
    "                                           best_mixer,\n",
    "                                           best_cost)\n",
    "\n",
    "    my_qaoa_circuit.measure_all()\n",
    "\n",
    "    compiler_pass(my_qaoa_circuit)\n",
    "    handle = backend.process_circuit(my_qaoa_circuit, shots, seed=seed)\n",
    "\n",
    "    result = backend.get_result(handle)    \n",
    "    \n",
    "    return result"
   ]
  },
  {
   "attachments": {},
   "cell_type": "markdown",
   "metadata": {},
   "source": [
    "### Results with the Noiseless Simulator"
   ]
  },
  {
   "cell_type": "code",
   "execution_count": 52,
   "metadata": {},
   "outputs": [],
   "source": [
    "from pytket.extensions.qiskit import AerBackend\n",
    "\n",
    "backend = AerBackend()\n",
    "comp = backend.get_compiled_circuit"
   ]
  },
  {
   "cell_type": "code",
   "execution_count": 53,
   "metadata": {},
   "outputs": [
    {
     "name": "stdout",
     "output_type": "stream",
     "text": [
      "new highest energy found:  4.287000000000001\n",
      "new highest energy found:  4.361\n",
      "new highest energy found:  4.5006\n",
      "new highest energy found:  4.925600000000001\n",
      "new highest energy found:  4.9622\n",
      "highest energy:  4.9622\n",
      "best guess mixer angles:  [-0.041  1.269  0.097]\n",
      "best guess cost angles:  [0.165 0.348 0.664]\n",
      "CPU times: total: 4min 3s\n",
      "Wall time: 4min 4s\n"
     ]
    }
   ],
   "source": [
    "%%time\n",
    "res = qaoa_calculate(backend, backend.default_compilation_pass(0).apply, shots = 5000, iterations = 100, seed=12345)"
   ]
  },
  {
   "attachments": {},
   "cell_type": "markdown",
   "metadata": {},
   "source": [
    "### Visualization"
   ]
  },
  {
   "cell_type": "code",
   "execution_count": 54,
   "metadata": {},
   "outputs": [
    {
     "name": "stdout",
     "output_type": "stream",
     "text": [
      "Success ratio 0.2752 \n"
     ]
    },
    {
     "data": {
      "image/png": "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",
      "text/plain": [
       "<Figure size 640x480 with 1 Axes>"
      ]
     },
     "metadata": {},
     "output_type": "display_data"
    }
   ],
   "source": [
    "from maxcut_plotting import plot_maxcut_results\n",
    "\n",
    "plot_maxcut_results(res, 6)"
   ]
  },
  {
   "cell_type": "code",
   "execution_count": 55,
   "metadata": {},
   "outputs": [
    {
     "data": {
      "image/png": "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",
      "text/plain": [
       "<Figure size 640x480 with 1 Axes>"
      ]
     },
     "metadata": {},
     "output_type": "display_data"
    },
    {
     "data": {
      "image/png": "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",
      "text/plain": [
       "<Figure size 640x480 with 1 Axes>"
      ]
     },
     "metadata": {},
     "output_type": "display_data"
    }
   ],
   "source": [
    "G = nx.Graph()\n",
    "G.add_edges_from(max_cut_graph_edges)\n",
    "\n",
    "H = nx.Graph()\n",
    "H.add_edges_from(max_cut_graph_edges)\n",
    "\n",
    "plt.figure(1)\n",
    "nx.draw(G, labels={node: node for node in max_cut_graph.nodes()}, node_color= ['red', 'blue', 'red','red', 'blue', 'red', 'red'])\n",
    "plt.figure(2)\n",
    "nx.draw(H, labels={node: node for node in max_cut_graph.nodes()}, node_color= ['blue', 'red', 'blue', 'blue', 'red', 'blue', 'blue'])\n",
    "\n",
    "plt.show()"
   ]
>>>>>>> Stashed changes
  }
 ],
 "metadata": {
  "kernelspec": {
   "display_name": "Python 3",
   "language": "python",
   "name": "python3"
  },
  "language_info": {
   "name": "python",
<<<<<<< Updated upstream
   "version": "3.11.1 (tags/v3.11.1:a7a450f, Dec  6 2022, 19:58:39) [MSC v.1934 64 bit (AMD64)]"
=======
   "nbconvert_exporter": "python",
   "pygments_lexer": "ipython3",
   "version": "3.10.9"
>>>>>>> Stashed changes
  },
  "orig_nbformat": 4,
  "vscode": {
   "interpreter": {
    "hash": "f7250d31ac3ef3e643cacdf074f10c6d72e47cc13b56e9559560792c226e2335"
   }
  }
 },
 "nbformat": 4,
 "nbformat_minor": 2
}
