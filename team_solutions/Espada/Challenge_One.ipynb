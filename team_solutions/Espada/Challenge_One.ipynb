{
 "cells": [
  {
   "attachments": {},
   "cell_type": "markdown",
   "metadata": {},
   "source": [
    "### iQuHack 2023\n",
    "### Event: Quantinuum\n",
    "### Team: Jaydin, David, Imaan, Jack, Ken\n",
    "### Description: \n",
    "In this iQuHack, we will work on improving the given QAOA implemntation for solving the Max-Cut problem. We will test and implement more sophisticated optimization strategies such as COBYLA and SPSA to see if they can improve the performance of the given implementation. The project will involve coding and testing in Python using networkx and open-source libraries. By the end, we will have a better understanding of the performance of QAOA and a working implementation using advanced optimization strategies."
   ]
  },
  {
   "attachments": {},
   "cell_type": "markdown",
   "metadata": {},
   "source": [
    "### Problem: \n",
    "Imagine you have a big picture with lots of dots (nodes) and lines (edges) connecting some of the dots. We want to color some of the dots red and the rest blue in a way that there are as many lines as possible connecting dots of different colors."
   ]
  },
  {
   "attachments": {},
   "cell_type": "markdown",
   "metadata": {},
   "source": [
    "### Current Options:\n",
    "\n",
    "QAOA Implementation: The given implementation as mentioned in the description uses a naive approach that starts by guessing some angles and then checks if this guess is better than the best guess it had before. If it is, then it saves this new guess as the best one. It does this many times, and at the end it tells you what the best guess is and how well it worked. It's like if you were trying to solve a jigsaw puzzle by trying different ways to put the pieces together, and you keep the best way you found so far.\n",
    "\n",
    "We're given three paradigms to approach the issue\n",
    "\n",
    "* Quantum Approximate Optimization Algorithm (QAOA) - Uses quantum gates to create a special picture of the problem and finds the best solution by changing that picture with different parameters. \n",
    "\n",
    "* Constrained Optimization by linear Approximation Optimizer (COBYLA) - Is a gradient-free optimization algorithm used to find the best solution to the max-cut problem by dividing the dots into two groups. \n",
    "\n",
    "* Simultaneous Pertubation Stochatic Approximation Optimizer (SPSAO) - Is a stochastic optimization algorithm that uses gradient information to adjust parameters and finds the best solution by making small changes to the initial guess.\n"
   ]
  }
 ],
 "metadata": {
  "kernelspec": {
   "display_name": "Python 3",
   "language": "python",
   "name": "python3"
  },
  "language_info": {
   "codemirror_mode": {
    "name": "ipython",
    "version": 3
   },
   "file_extension": ".py",
   "mimetype": "text/x-python",
   "name": "python",
   "nbconvert_exporter": "python",
   "pygments_lexer": "ipython3",
   "version": "3.11.1"
  },
  "orig_nbformat": 4,
  "vscode": {
   "interpreter": {
    "hash": "c261aea317cc0286b3b3261fbba9abdec21eaa57589985bb7a274bf54d6cc0a7"
   }
  }
 },
 "nbformat": 4,
 "nbformat_minor": 2
}
