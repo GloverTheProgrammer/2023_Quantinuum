{
 "cells": [
  {
   "attachments": {},
   "cell_type": "markdown",
   "metadata": {},
   "source": [
    "#### iQuHack 2023\n",
    "#### Event: Quantinuum\n",
    "#### Team: Jaydin, David, Iman, Jack, Ken\n",
    "#### Description:\n"
   ]
  }
 ],
 "metadata": {
  "language_info": {
   "name": "python"
  },
  "orig_nbformat": 4
 },
 "nbformat": 4,
 "nbformat_minor": 2
}
